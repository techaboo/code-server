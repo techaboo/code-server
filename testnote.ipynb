{
 "cells": [
  {
   "cell_type": "markdown",
   "metadata": {},
   "source": [
    "# Test Document\n",
    "\n",
    "### Just writing some stuff\n",
    "- List Items\n",
    "- Beans\n",
    "- Koolaid\n"
   ]
  }
 ],
 "metadata": {
  "language_info": {
   "name": "python"
  }
 },
 "nbformat": 4,
 "nbformat_minor": 2
}
